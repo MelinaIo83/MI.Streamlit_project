{
    "cells": [
        {
            "cell_type": "markdown",
            "metadata": {},
            "source": [
                "# EDA -- Linear Regression\n",
                "# Predecir el coste del seguro médico de una persona"
            ]
        },
        {
            "cell_type": "markdown",
            "metadata": {},
            "source": [
                "La importante compañía de seguros 4Geeks Insurance S.L. quiere calcular, en función de datos los fisiológicos de sus clientes, cuál va a ser la prima (coste) que debe asumir cada uno de ellos. Para ello, ha reunido a un equipo completo de médicos y en función de datos de otras compañías y un estudio particular han logrado reunir un conjunto de datos para entrenar un modelo predictivo."
            ]
        },
        {
            "cell_type": "code",
            "execution_count": 1,
            "metadata": {},
            "outputs": [
                {
                    "data": {
                        "text/html": [
                            "<div>\n",
                            "<style scoped>\n",
                            "    .dataframe tbody tr th:only-of-type {\n",
                            "        vertical-align: middle;\n",
                            "    }\n",
                            "\n",
                            "    .dataframe tbody tr th {\n",
                            "        vertical-align: top;\n",
                            "    }\n",
                            "\n",
                            "    .dataframe thead th {\n",
                            "        text-align: right;\n",
                            "    }\n",
                            "</style>\n",
                            "<table border=\"1\" class=\"dataframe\">\n",
                            "  <thead>\n",
                            "    <tr style=\"text-align: right;\">\n",
                            "      <th></th>\n",
                            "      <th>age</th>\n",
                            "      <th>sex</th>\n",
                            "      <th>bmi</th>\n",
                            "      <th>children</th>\n",
                            "      <th>smoker</th>\n",
                            "      <th>region</th>\n",
                            "      <th>charges</th>\n",
                            "    </tr>\n",
                            "  </thead>\n",
                            "  <tbody>\n",
                            "    <tr>\n",
                            "      <th>0</th>\n",
                            "      <td>19</td>\n",
                            "      <td>female</td>\n",
                            "      <td>27.900</td>\n",
                            "      <td>0</td>\n",
                            "      <td>yes</td>\n",
                            "      <td>southwest</td>\n",
                            "      <td>16884.92400</td>\n",
                            "    </tr>\n",
                            "    <tr>\n",
                            "      <th>1</th>\n",
                            "      <td>18</td>\n",
                            "      <td>male</td>\n",
                            "      <td>33.770</td>\n",
                            "      <td>1</td>\n",
                            "      <td>no</td>\n",
                            "      <td>southeast</td>\n",
                            "      <td>1725.55230</td>\n",
                            "    </tr>\n",
                            "    <tr>\n",
                            "      <th>2</th>\n",
                            "      <td>28</td>\n",
                            "      <td>male</td>\n",
                            "      <td>33.000</td>\n",
                            "      <td>3</td>\n",
                            "      <td>no</td>\n",
                            "      <td>southeast</td>\n",
                            "      <td>4449.46200</td>\n",
                            "    </tr>\n",
                            "    <tr>\n",
                            "      <th>3</th>\n",
                            "      <td>33</td>\n",
                            "      <td>male</td>\n",
                            "      <td>22.705</td>\n",
                            "      <td>0</td>\n",
                            "      <td>no</td>\n",
                            "      <td>northwest</td>\n",
                            "      <td>21984.47061</td>\n",
                            "    </tr>\n",
                            "    <tr>\n",
                            "      <th>4</th>\n",
                            "      <td>32</td>\n",
                            "      <td>male</td>\n",
                            "      <td>28.880</td>\n",
                            "      <td>0</td>\n",
                            "      <td>no</td>\n",
                            "      <td>northwest</td>\n",
                            "      <td>3866.85520</td>\n",
                            "    </tr>\n",
                            "  </tbody>\n",
                            "</table>\n",
                            "</div>"
                        ],
                        "text/plain": [
                            "   age     sex     bmi  children smoker     region      charges\n",
                            "0   19  female  27.900         0    yes  southwest  16884.92400\n",
                            "1   18    male  33.770         1     no  southeast   1725.55230\n",
                            "2   28    male  33.000         3     no  southeast   4449.46200\n",
                            "3   33    male  22.705         0     no  northwest  21984.47061\n",
                            "4   32    male  28.880         0     no  northwest   3866.85520"
                        ]
                    },
                    "execution_count": 1,
                    "metadata": {},
                    "output_type": "execute_result"
                }
            ],
            "source": [
                "# Your code here\n",
                "\n",
                "import pandas as pd\n",
                "\n",
                "lr_data = pd.read_csv(\"https://raw.githubusercontent.com/4GeeksAcademy/linear-regression-project-tutorial/main/medical_insurance_cost.csv\")\n",
                "lr_data.head()\n"
            ]
        },
        {
            "cell_type": "markdown",
            "metadata": {},
            "source": [
                "age. Edad del beneficiario principal (numérico)\n",
                "sex. Género del beneficiario principal (categórico)\n",
                "bmi. índice de masa corporal (numérico)\n",
                "children. Número de niños/dependientes cubiertos por un seguro médico (numérico)\n",
                "smoker. ¿Es fumador? (categórico)\n",
                "region. Área residencial del beneficiario en USA: noreste, sureste, suroeste, noroeste (categórico)\n",
                "charges. Prima del seguro médico (numérico)"
            ]
        },
        {
            "cell_type": "code",
            "execution_count": 2,
            "metadata": {},
            "outputs": [
                {
                    "data": {
                        "text/plain": [
                            "(1338, 7)"
                        ]
                    },
                    "execution_count": 2,
                    "metadata": {},
                    "output_type": "execute_result"
                }
            ],
            "source": [
                "#veo las dimensiones\n",
                "lr_data.shape"
            ]
        },
        {
            "cell_type": "code",
            "execution_count": 3,
            "metadata": {},
            "outputs": [
                {
                    "name": "stdout",
                    "output_type": "stream",
                    "text": [
                        "<class 'pandas.core.frame.DataFrame'>\n",
                        "RangeIndex: 1338 entries, 0 to 1337\n",
                        "Data columns (total 7 columns):\n",
                        " #   Column    Non-Null Count  Dtype  \n",
                        "---  ------    --------------  -----  \n",
                        " 0   age       1338 non-null   int64  \n",
                        " 1   sex       1338 non-null   object \n",
                        " 2   bmi       1338 non-null   float64\n",
                        " 3   children  1338 non-null   int64  \n",
                        " 4   smoker    1338 non-null   object \n",
                        " 5   region    1338 non-null   object \n",
                        " 6   charges   1338 non-null   float64\n",
                        "dtypes: float64(2), int64(2), object(3)\n",
                        "memory usage: 73.3+ KB\n"
                    ]
                }
            ],
            "source": [
                "#m eijo tipo de datos y valores\n",
                "\n",
                "lr_data.info()\n"
            ]
        },
        {
            "cell_type": "markdown",
            "metadata": {},
            "source": [
                "Hay un total de 1338 lineas, que en este caso, representan personas. Hay 7 columnas, incluida la target a predecir, esta es, el coste de seguro medico de una persona.\n",
                "No hay datos o valores nulos\n",
                "Hay 4 caracteristicas numericas y 3 categoricas\n",
                "\n",
                "\n",
                "No puedo eliminar duplicados, no hay registro unico que se pueda repetir\n",
                "No hay datos irrelevantes, nos han compartido las variables a considerar en su totalidad\n",
                "\n"
            ]
        },
        {
            "cell_type": "code",
            "execution_count": 4,
            "metadata": {},
            "outputs": [
                {
                    "data": {
                        "text/html": [
                            "<div>\n",
                            "<style scoped>\n",
                            "    .dataframe tbody tr th:only-of-type {\n",
                            "        vertical-align: middle;\n",
                            "    }\n",
                            "\n",
                            "    .dataframe tbody tr th {\n",
                            "        vertical-align: top;\n",
                            "    }\n",
                            "\n",
                            "    .dataframe thead th {\n",
                            "        text-align: right;\n",
                            "    }\n",
                            "</style>\n",
                            "<table border=\"1\" class=\"dataframe\">\n",
                            "  <thead>\n",
                            "    <tr style=\"text-align: right;\">\n",
                            "      <th></th>\n",
                            "      <th>age</th>\n",
                            "      <th>sex</th>\n",
                            "      <th>bmi</th>\n",
                            "      <th>children</th>\n",
                            "      <th>smoker</th>\n",
                            "      <th>charges</th>\n",
                            "    </tr>\n",
                            "  </thead>\n",
                            "  <tbody>\n",
                            "    <tr>\n",
                            "      <th>0</th>\n",
                            "      <td>19</td>\n",
                            "      <td>female</td>\n",
                            "      <td>27.900</td>\n",
                            "      <td>0</td>\n",
                            "      <td>yes</td>\n",
                            "      <td>16884.92400</td>\n",
                            "    </tr>\n",
                            "    <tr>\n",
                            "      <th>1</th>\n",
                            "      <td>18</td>\n",
                            "      <td>male</td>\n",
                            "      <td>33.770</td>\n",
                            "      <td>1</td>\n",
                            "      <td>no</td>\n",
                            "      <td>1725.55230</td>\n",
                            "    </tr>\n",
                            "    <tr>\n",
                            "      <th>2</th>\n",
                            "      <td>28</td>\n",
                            "      <td>male</td>\n",
                            "      <td>33.000</td>\n",
                            "      <td>3</td>\n",
                            "      <td>no</td>\n",
                            "      <td>4449.46200</td>\n",
                            "    </tr>\n",
                            "    <tr>\n",
                            "      <th>3</th>\n",
                            "      <td>33</td>\n",
                            "      <td>male</td>\n",
                            "      <td>22.705</td>\n",
                            "      <td>0</td>\n",
                            "      <td>no</td>\n",
                            "      <td>21984.47061</td>\n",
                            "    </tr>\n",
                            "    <tr>\n",
                            "      <th>4</th>\n",
                            "      <td>32</td>\n",
                            "      <td>male</td>\n",
                            "      <td>28.880</td>\n",
                            "      <td>0</td>\n",
                            "      <td>no</td>\n",
                            "      <td>3866.85520</td>\n",
                            "    </tr>\n",
                            "  </tbody>\n",
                            "</table>\n",
                            "</div>"
                        ],
                        "text/plain": [
                            "   age     sex     bmi  children smoker      charges\n",
                            "0   19  female  27.900         0    yes  16884.92400\n",
                            "1   18    male  33.770         1     no   1725.55230\n",
                            "2   28    male  33.000         3     no   4449.46200\n",
                            "3   33    male  22.705         0     no  21984.47061\n",
                            "4   32    male  28.880         0     no   3866.85520"
                        ]
                    },
                    "execution_count": 4,
                    "metadata": {},
                    "output_type": "execute_result"
                }
            ],
            "source": [
                "#drop region\n",
                "lr_data.drop([\"region\"], axis = 1, inplace=True)\n",
                "lr_data.head()"
            ]
        },
        {
            "cell_type": "code",
            "execution_count": 5,
            "metadata": {},
            "outputs": [
                {
                    "name": "stderr",
                    "output_type": "stream",
                    "text": [
                        "/opt/anaconda3/lib/python3.11/site-packages/seaborn/_oldcore.py:1119: FutureWarning: use_inf_as_na option is deprecated and will be removed in a future version. Convert inf values to NaN before operating instead.\n",
                        "  with pd.option_context('mode.use_inf_as_na', True):\n",
                        "/opt/anaconda3/lib/python3.11/site-packages/seaborn/_oldcore.py:1119: FutureWarning: use_inf_as_na option is deprecated and will be removed in a future version. Convert inf values to NaN before operating instead.\n",
                        "  with pd.option_context('mode.use_inf_as_na', True):\n",
                        "/var/folders/bh/27_cs0d96p3btcd4dc4g7h440000gn/T/ipykernel_5116/3959959693.py:15: UserWarning: set_ticklabels() should only be used with a fixed number of ticks, i.e. after set_ticks() or using a FixedLocator.\n",
                        "  lala.set_xticklabels(lala.get_xticklabels(), rotation=90)\n",
                        "/var/folders/bh/27_cs0d96p3btcd4dc4g7h440000gn/T/ipykernel_5116/3959959693.py:15: UserWarning: set_ticklabels() should only be used with a fixed number of ticks, i.e. after set_ticks() or using a FixedLocator.\n",
                        "  lala.set_xticklabels(lala.get_xticklabels(), rotation=90)\n",
                        "/var/folders/bh/27_cs0d96p3btcd4dc4g7h440000gn/T/ipykernel_5116/3959959693.py:15: UserWarning: set_ticklabels() should only be used with a fixed number of ticks, i.e. after set_ticks() or using a FixedLocator.\n",
                        "  lala.set_xticklabels(lala.get_xticklabels(), rotation=90)\n"
                    ]
                },
                {
                    "data": {
                        "image/png": "[encoded data removed]",
                        "text/plain": [
                            "<Figure size 1000x1000 with 3 Axes>"
                        ]
                    },
                    "metadata": {},
                    "output_type": "display_data"
                }
            ],
            "source": [
                "#ANALISIS DE VARIABLES CATEGORICAS\n",
                "\n",
                "import matplotlib.pyplot as plt\n",
                "import seaborn as sns\n",
                "\n",
                "fig, axis = plt.subplots(1, 3, figsize = (10, 10))\n",
                "\n",
                "#CREO LOS HIST\n",
                "\n",
                "sns.histplot(ax = axis[0], data = lr_data, x = \"sex\")\n",
                "sns.histplot(ax = axis[1], data= lr_data, x= \"smoker\")\n",
                "\n",
                "\n",
                "for lala in axis:\n",
                "    lala.set_xticklabels(lala.get_xticklabels(), rotation=90)\n",
                "plt.tight_layout()\n",
                "plt.show()\n"
            ]
        },
        {
            "cell_type": "markdown",
            "metadata": {},
            "source": [
                "De los histogramas podemos ver:\n",
                "1 - la poblacion se distribuye casi 50/50 entre mujeres y hombres\n",
                "2- Casi el 80% de la poblacion es no fumadora\n",
                "3- La division por region es casi identica, con excepcion de southwest que tiene, minimamente, mas gente en la region.\n"
            ]
        },
        {
            "cell_type": "code",
            "execution_count": 6,
            "metadata": {},
            "outputs": [
                {
                    "name": "stderr",
                    "output_type": "stream",
                    "text": [
                        "/opt/anaconda3/lib/python3.11/site-packages/seaborn/_oldcore.py:1119: FutureWarning: use_inf_as_na option is deprecated and will be removed in a future version. Convert inf values to NaN before operating instead.\n",
                        "  with pd.option_context('mode.use_inf_as_na', True):\n",
                        "/opt/anaconda3/lib/python3.11/site-packages/seaborn/_oldcore.py:1119: FutureWarning: use_inf_as_na option is deprecated and will be removed in a future version. Convert inf values to NaN before operating instead.\n",
                        "  with pd.option_context('mode.use_inf_as_na', True):\n",
                        "/opt/anaconda3/lib/python3.11/site-packages/seaborn/_oldcore.py:1119: FutureWarning: use_inf_as_na option is deprecated and will be removed in a future version. Convert inf values to NaN before operating instead.\n",
                        "  with pd.option_context('mode.use_inf_as_na', True):\n",
                        "/opt/anaconda3/lib/python3.11/site-packages/seaborn/_oldcore.py:1119: FutureWarning: use_inf_as_na option is deprecated and will be removed in a future version. Convert inf values to NaN before operating instead.\n",
                        "  with pd.option_context('mode.use_inf_as_na', True):\n"
                    ]
                },
                {
                    "data": {
                        "image/png": "[encoded data removed]",
                        "text/plain": [
                            "<Figure size 1000x1000 with 8 Axes>"
                        ]
                    },
                    "metadata": {},
                    "output_type": "display_data"
                }
            ],
            "source": [
                "#ANALISIS DE LAS VARIABLES NUMERICAS\n",
                "#CREO BOXPLOTS E HISTOGRAMAS \n",
                "# age\tbmi\tchildren\tcharges\n",
                "\n",
                "\n",
                "fig, axis = plt.subplots(4, 2, figsize = (10, 10))\n",
                "\n",
                "sns.histplot(ax = axis[0, 0], data = lr_data, x = \"age\")\n",
                "sns.boxplot(ax = axis[1, 0], data = lr_data, x = \"age\")\n",
                "sns.histplot(ax = axis[0, 1], data = lr_data, x = \"bmi\")\n",
                "sns.boxplot(ax = axis[1, 1], data = lr_data, x = \"bmi\")\n",
                "sns.histplot(ax = axis[2, 0], data = lr_data, x = \"children\")\n",
                "sns.boxplot(ax = axis[3, 0], data = lr_data, x = \"children\")\n",
                "sns.histplot(ax = axis[2, 1], data = lr_data, x = \"charges\")\n",
                "sns.boxplot(ax = axis[3, 1], data = lr_data, x = \"charges\")\n",
                "\n",
                "plt.tight_layout()\n",
                "plt.show()\n"
            ]
        },
        {
            "cell_type": "markdown",
            "metadata": {},
            "source": [
                "Analisis variables numericas en base a los graficos y del describe podemos ver\n",
                "1- Las edades de los asegurados van desde los 18 hastta los 64 anos. El 50% de los asegurados tienen entre casi 30 y poco mas de 50 anos. Un 25% de los asegurados tiene +50 hasta 64, y 25% tiene 18 a casi 30.\n",
                "2- Mirando el BMI, vemos que la distribucion de estos datos es normal, teniendo alguos outliers con un BMI de mas de 45\n",
                "3- El 75% de los asegurados tiene hasta 2 hijos\n",
                "4- El 50% de los asegurados paga entre 4700 y 16000 euros de prima de seguro. Un 25% de los asegurados paga de 16k. a 35k y vemos outliers, gente que paga mas de 35K de prima\n"
            ]
        },
        {
            "cell_type": "code",
            "execution_count": 7,
            "metadata": {},
            "outputs": [
                {
                    "data": {
                        "text/html": [
                            "<div>\n",
                            "<style scoped>\n",
                            "    .dataframe tbody tr th:only-of-type {\n",
                            "        vertical-align: middle;\n",
                            "    }\n",
                            "\n",
                            "    .dataframe tbody tr th {\n",
                            "        vertical-align: top;\n",
                            "    }\n",
                            "\n",
                            "    .dataframe thead th {\n",
                            "        text-align: right;\n",
                            "    }\n",
                            "</style>\n",
                            "<table border=\"1\" class=\"dataframe\">\n",
                            "  <thead>\n",
                            "    <tr style=\"text-align: right;\">\n",
                            "      <th></th>\n",
                            "      <th>age</th>\n",
                            "      <th>bmi</th>\n",
                            "      <th>children</th>\n",
                            "      <th>charges</th>\n",
                            "    </tr>\n",
                            "  </thead>\n",
                            "  <tbody>\n",
                            "    <tr>\n",
                            "      <th>count</th>\n",
                            "      <td>1338.000000</td>\n",
                            "      <td>1338.000000</td>\n",
                            "      <td>1338.000000</td>\n",
                            "      <td>1338.000000</td>\n",
                            "    </tr>\n",
                            "    <tr>\n",
                            "      <th>mean</th>\n",
                            "      <td>39.207025</td>\n",
                            "      <td>30.663397</td>\n",
                            "      <td>1.094918</td>\n",
                            "      <td>13270.422265</td>\n",
                            "    </tr>\n",
                            "    <tr>\n",
                            "      <th>std</th>\n",
                            "      <td>14.049960</td>\n",
                            "      <td>6.098187</td>\n",
                            "      <td>1.205493</td>\n",
                            "      <td>12110.011237</td>\n",
                            "    </tr>\n",
                            "    <tr>\n",
                            "      <th>min</th>\n",
                            "      <td>18.000000</td>\n",
                            "      <td>15.960000</td>\n",
                            "      <td>0.000000</td>\n",
                            "      <td>1121.873900</td>\n",
                            "    </tr>\n",
                            "    <tr>\n",
                            "      <th>25%</th>\n",
                            "      <td>27.000000</td>\n",
                            "      <td>26.296250</td>\n",
                            "      <td>0.000000</td>\n",
                            "      <td>4740.287150</td>\n",
                            "    </tr>\n",
                            "    <tr>\n",
                            "      <th>50%</th>\n",
                            "      <td>39.000000</td>\n",
                            "      <td>30.400000</td>\n",
                            "      <td>1.000000</td>\n",
                            "      <td>9382.033000</td>\n",
                            "    </tr>\n",
                            "    <tr>\n",
                            "      <th>75%</th>\n",
                            "      <td>51.000000</td>\n",
                            "      <td>34.693750</td>\n",
                            "      <td>2.000000</td>\n",
                            "      <td>16639.912515</td>\n",
                            "    </tr>\n",
                            "    <tr>\n",
                            "      <th>max</th>\n",
                            "      <td>64.000000</td>\n",
                            "      <td>53.130000</td>\n",
                            "      <td>5.000000</td>\n",
                            "      <td>63770.428010</td>\n",
                            "    </tr>\n",
                            "  </tbody>\n",
                            "</table>\n",
                            "</div>"
                        ],
                        "text/plain": [
                            "               age          bmi     children       charges\n",
                            "count  1338.000000  1338.000000  1338.000000   1338.000000\n",
                            "mean     39.207025    30.663397     1.094918  13270.422265\n",
                            "std      14.049960     6.098187     1.205493  12110.011237\n",
                            "min      18.000000    15.960000     0.000000   1121.873900\n",
                            "25%      27.000000    26.296250     0.000000   4740.287150\n",
                            "50%      39.000000    30.400000     1.000000   9382.033000\n",
                            "75%      51.000000    34.693750     2.000000  16639.912515\n",
                            "max      64.000000    53.130000     5.000000  63770.428010"
                        ]
                    },
                    "execution_count": 7,
                    "metadata": {},
                    "output_type": "execute_result"
                }
            ],
            "source": [
                "lr_data.describe()"
            ]
        },
        {
            "cell_type": "code",
            "execution_count": 8,
            "metadata": {},
            "outputs": [
                {
                    "data": {
                        "image/png": "[encoded data removed]",
                        "text/plain": [
                            "<Figure size 640x480 with 1 Axes>"
                        ]
                    },
                    "metadata": {},
                    "output_type": "display_data"
                }
            ],
            "source": [
                "#NO ME QUEDA CLARA ESTA RELACION NEGATIVA ENTRE PRIMA Y FUMADORES, ASI QUE PONGO ESTOS BOXPLOTS PARA VER QUE DA\n",
                "\n",
                "sns.boxplot(data=lr_data, x='smoker', y='charges')\n",
                "plt.title('Boxplot of Charges by Smoking Status')\n",
                "plt.xlabel('Smoker')\n",
                "plt.ylabel('Charges')\n",
                "plt.show()"
            ]
        },
        {
            "cell_type": "code",
            "execution_count": 9,
            "metadata": {},
            "outputs": [
                {
                    "name": "stdout",
                    "output_type": "stream",
                    "text": [
                        "Stats fumadores\n",
                        "count      274.000000\n",
                        "mean     32050.231832\n",
                        "std      11541.547176\n",
                        "min      12829.455100\n",
                        "25%      20826.244213\n",
                        "50%      34456.348450\n",
                        "75%      41019.207275\n",
                        "max      63770.428010\n",
                        "Name: charges, dtype: float64\n",
                        "Stats no fumadores\n",
                        "count     1064.000000\n",
                        "mean      8434.268298\n",
                        "std       5993.781819\n",
                        "min       1121.873900\n",
                        "25%       3986.438700\n",
                        "50%       7345.405300\n",
                        "75%      11362.887050\n",
                        "max      36910.608030\n",
                        "Name: charges, dtype: float64\n"
                    ]
                }
            ],
            "source": [
                "grupo_fuman = lr_data[lr_data[\"smoker\"] == \"yes\"]\n",
                "grupo_nofuman = lr_data[lr_data[\"smoker\"] == \"no\"]\n",
                "\n",
                "gf_stats = grupo_fuman[\"charges\"].describe()\n",
                "gnf_stats = grupo_nofuman[\"charges\"].describe()\n",
                "\n",
                "print(\"Stats fumadores\")\n",
                "print(gf_stats)\n",
                "\n",
                "print(\"Stats no fumadores\")\n",
                "print(gnf_stats)"
            ]
        },
        {
            "cell_type": "markdown",
            "metadata": {},
            "source": [
                "Vemos que en el caso de los fumadores, el promedio de la prima es 3 veces mas alto que el de los no fumadores. El valor del desvio esta del doble en el caso de fuamdores, lo que implica una mayor divergencia de datos."
            ]
        },
        {
            "cell_type": "code",
            "execution_count": 10,
            "metadata": {},
            "outputs": [],
            "source": [
                "# FACTORIZACION DE LOS DATOS\n",
                "\n",
                "from sklearn.preprocessing import MinMaxScaler\n",
                "\n",
                "lr_data[\"sex_n\"] = pd.factorize(lr_data[\"sex\"])[0]\n",
                "lr_data[\"smoker_n\"] = pd.factorize(lr_data[\"smoker\"])[0]\n",
                "\n",
                "\n",
                "\n"
            ]
        },
        {
            "cell_type": "code",
            "execution_count": 11,
            "metadata": {},
            "outputs": [
                {
                    "data": {
                        "image/png": "[encoded data removed]",
                        "text/plain": [
                            "<Figure size 1000x600 with 2 Axes>"
                        ]
                    },
                    "metadata": {},
                    "output_type": "display_data"
                }
            ],
            "source": [
                "# HEATMAP\n",
                "\n",
                "fig, axis = plt.subplots(figsize = (10, 6))\n",
                "sns.heatmap(lr_data[[\"age\", \"bmi\", \"children\", \"sex_n\", \"smoker_n\", \"charges\"]].corr(), annot = True, fmt = \".2f\")\n",
                "\n",
                "plt.tight_layout()\n",
                "\n",
                "plt.show()"
            ]
        },
        {
            "cell_type": "markdown",
            "metadata": {},
            "source": [
                "Podmeos ver alguna relacion enre la edad, el bmi y el valor de la prima, pero no son correlaciones particularmente fuertes.\n"
            ]
        },
        {
            "cell_type": "code",
            "execution_count": 12,
            "metadata": {},
            "outputs": [
                {
                    "data": {
                        "text/html": [
                            "<div>\n",
                            "<style scoped>\n",
                            "    .dataframe tbody tr th:only-of-type {\n",
                            "        vertical-align: middle;\n",
                            "    }\n",
                            "\n",
                            "    .dataframe tbody tr th {\n",
                            "        vertical-align: top;\n",
                            "    }\n",
                            "\n",
                            "    .dataframe thead th {\n",
                            "        text-align: right;\n",
                            "    }\n",
                            "</style>\n",
                            "<table border=\"1\" class=\"dataframe\">\n",
                            "  <thead>\n",
                            "    <tr style=\"text-align: right;\">\n",
                            "      <th></th>\n",
                            "      <th>age</th>\n",
                            "      <th>bmi</th>\n",
                            "      <th>children</th>\n",
                            "      <th>charges</th>\n",
                            "      <th>sex_n</th>\n",
                            "      <th>smoker_n</th>\n",
                            "    </tr>\n",
                            "  </thead>\n",
                            "  <tbody>\n",
                            "    <tr>\n",
                            "      <th>count</th>\n",
                            "      <td>1338.000000</td>\n",
                            "      <td>1338.000000</td>\n",
                            "      <td>1338.000000</td>\n",
                            "      <td>1338.000000</td>\n",
                            "      <td>1338.000000</td>\n",
                            "      <td>1338.000000</td>\n",
                            "    </tr>\n",
                            "    <tr>\n",
                            "      <th>mean</th>\n",
                            "      <td>39.207025</td>\n",
                            "      <td>30.663397</td>\n",
                            "      <td>1.094918</td>\n",
                            "      <td>13270.422265</td>\n",
                            "      <td>0.505232</td>\n",
                            "      <td>0.795217</td>\n",
                            "    </tr>\n",
                            "    <tr>\n",
                            "      <th>std</th>\n",
                            "      <td>14.049960</td>\n",
                            "      <td>6.098187</td>\n",
                            "      <td>1.205493</td>\n",
                            "      <td>12110.011237</td>\n",
                            "      <td>0.500160</td>\n",
                            "      <td>0.403694</td>\n",
                            "    </tr>\n",
                            "    <tr>\n",
                            "      <th>min</th>\n",
                            "      <td>18.000000</td>\n",
                            "      <td>15.960000</td>\n",
                            "      <td>0.000000</td>\n",
                            "      <td>1121.873900</td>\n",
                            "      <td>0.000000</td>\n",
                            "      <td>0.000000</td>\n",
                            "    </tr>\n",
                            "    <tr>\n",
                            "      <th>25%</th>\n",
                            "      <td>27.000000</td>\n",
                            "      <td>26.296250</td>\n",
                            "      <td>0.000000</td>\n",
                            "      <td>4740.287150</td>\n",
                            "      <td>0.000000</td>\n",
                            "      <td>1.000000</td>\n",
                            "    </tr>\n",
                            "    <tr>\n",
                            "      <th>50%</th>\n",
                            "      <td>39.000000</td>\n",
                            "      <td>30.400000</td>\n",
                            "      <td>1.000000</td>\n",
                            "      <td>9382.033000</td>\n",
                            "      <td>1.000000</td>\n",
                            "      <td>1.000000</td>\n",
                            "    </tr>\n",
                            "    <tr>\n",
                            "      <th>75%</th>\n",
                            "      <td>51.000000</td>\n",
                            "      <td>34.693750</td>\n",
                            "      <td>2.000000</td>\n",
                            "      <td>16639.912515</td>\n",
                            "      <td>1.000000</td>\n",
                            "      <td>1.000000</td>\n",
                            "    </tr>\n",
                            "    <tr>\n",
                            "      <th>max</th>\n",
                            "      <td>64.000000</td>\n",
                            "      <td>53.130000</td>\n",
                            "      <td>5.000000</td>\n",
                            "      <td>63770.428010</td>\n",
                            "      <td>1.000000</td>\n",
                            "      <td>1.000000</td>\n",
                            "    </tr>\n",
                            "  </tbody>\n",
                            "</table>\n",
                            "</div>"
                        ],
                        "text/plain": [
                            "               age          bmi     children       charges        sex_n  \\\n",
                            "count  1338.000000  1338.000000  1338.000000   1338.000000  1338.000000   \n",
                            "mean     39.207025    30.663397     1.094918  13270.422265     0.505232   \n",
                            "std      14.049960     6.098187     1.205493  12110.011237     0.500160   \n",
                            "min      18.000000    15.960000     0.000000   1121.873900     0.000000   \n",
                            "25%      27.000000    26.296250     0.000000   4740.287150     0.000000   \n",
                            "50%      39.000000    30.400000     1.000000   9382.033000     1.000000   \n",
                            "75%      51.000000    34.693750     2.000000  16639.912515     1.000000   \n",
                            "max      64.000000    53.130000     5.000000  63770.428010     1.000000   \n",
                            "\n",
                            "          smoker_n  \n",
                            "count  1338.000000  \n",
                            "mean      0.795217  \n",
                            "std       0.403694  \n",
                            "min       0.000000  \n",
                            "25%       1.000000  \n",
                            "50%       1.000000  \n",
                            "75%       1.000000  \n",
                            "max       1.000000  "
                        ]
                    },
                    "execution_count": 12,
                    "metadata": {},
                    "output_type": "execute_result"
                }
            ],
            "source": [
                "lr_data.describe()\n"
            ]
        },
        {
            "cell_type": "code",
            "execution_count": 13,
            "metadata": {},
            "outputs": [
                {
                    "ename": "TypeError",
                    "evalue": "can't multiply sequence by non-int of type 'float'",
                    "output_type": "error",
                    "traceback": [
                        "\u001b[0;31m---------------------------------------------------------------------------\u001b[0m",
                        "\u001b[0;31mTypeError\u001b[0m                                 Traceback (most recent call last)",
                        "Cell \u001b[0;32mIn[13], line 4\u001b[0m\n\u001b[1;32m      1\u001b[0m \u001b[38;5;66;03m#grafico como en el ejempplo titanic\u001b[39;00m\n\u001b[1;32m      3\u001b[0m fig, ax \u001b[38;5;241m=\u001b[39m plt\u001b[38;5;241m.\u001b[39msubplots(figsize \u001b[38;5;241m=\u001b[39m (\u001b[38;5;241m10\u001b[39m, \u001b[38;5;241m5\u001b[39m))\n\u001b[0;32m----> 4\u001b[0m sns\u001b[38;5;241m.\u001b[39mregplot(ax \u001b[38;5;241m=\u001b[39m ax, data\u001b[38;5;241m=\u001b[39m lr_data, x \u001b[38;5;241m=\u001b[39m \u001b[38;5;124m\"\u001b[39m\u001b[38;5;124mcharges\u001b[39m\u001b[38;5;124m\"\u001b[39m, y \u001b[38;5;241m=\u001b[39m \u001b[38;5;124m\"\u001b[39m\u001b[38;5;124msmoker\u001b[39m\u001b[38;5;124m\"\u001b[39m)\n\u001b[1;32m      6\u001b[0m plt\u001b[38;5;241m.\u001b[39mtight_layout()\n\u001b[1;32m      7\u001b[0m plt\u001b[38;5;241m.\u001b[39mshow()\n",
                        "File \u001b[0;32m/opt/anaconda3/lib/python3.11/site-packages/seaborn/regression.py:759\u001b[0m, in \u001b[0;36mregplot\u001b[0;34m(data, x, y, x_estimator, x_bins, x_ci, scatter, fit_reg, ci, n_boot, units, seed, order, logistic, lowess, robust, logx, x_partial, y_partial, truncate, dropna, x_jitter, y_jitter, label, color, marker, scatter_kws, line_kws, ax)\u001b[0m\n\u001b[1;32m    757\u001b[0m scatter_kws[\u001b[38;5;124m\"\u001b[39m\u001b[38;5;124mmarker\u001b[39m\u001b[38;5;124m\"\u001b[39m] \u001b[38;5;241m=\u001b[39m marker\n\u001b[1;32m    758\u001b[0m line_kws \u001b[38;5;241m=\u001b[39m {} \u001b[38;5;28;01mif\u001b[39;00m line_kws \u001b[38;5;129;01mis\u001b[39;00m \u001b[38;5;28;01mNone\u001b[39;00m \u001b[38;5;28;01melse\u001b[39;00m copy\u001b[38;5;241m.\u001b[39mcopy(line_kws)\n\u001b[0;32m--> 759\u001b[0m plotter\u001b[38;5;241m.\u001b[39mplot(ax, scatter_kws, line_kws)\n\u001b[1;32m    760\u001b[0m \u001b[38;5;28;01mreturn\u001b[39;00m ax\n",
                        "File \u001b[0;32m/opt/anaconda3/lib/python3.11/site-packages/seaborn/regression.py:368\u001b[0m, in \u001b[0;36m_RegressionPlotter.plot\u001b[0;34m(self, ax, scatter_kws, line_kws)\u001b[0m\n\u001b[1;32m    365\u001b[0m     \u001b[38;5;28mself\u001b[39m\u001b[38;5;241m.\u001b[39mscatterplot(ax, scatter_kws)\n\u001b[1;32m    367\u001b[0m \u001b[38;5;28;01mif\u001b[39;00m \u001b[38;5;28mself\u001b[39m\u001b[38;5;241m.\u001b[39mfit_reg:\n\u001b[0;32m--> 368\u001b[0m     \u001b[38;5;28mself\u001b[39m\u001b[38;5;241m.\u001b[39mlineplot(ax, line_kws)\n\u001b[1;32m    370\u001b[0m \u001b[38;5;66;03m# Label the axes\u001b[39;00m\n\u001b[1;32m    371\u001b[0m \u001b[38;5;28;01mif\u001b[39;00m \u001b[38;5;28mhasattr\u001b[39m(\u001b[38;5;28mself\u001b[39m\u001b[38;5;241m.\u001b[39mx, \u001b[38;5;124m\"\u001b[39m\u001b[38;5;124mname\u001b[39m\u001b[38;5;124m\"\u001b[39m):\n",
                        "File \u001b[0;32m/opt/anaconda3/lib/python3.11/site-packages/seaborn/regression.py:413\u001b[0m, in \u001b[0;36m_RegressionPlotter.lineplot\u001b[0;34m(self, ax, kws)\u001b[0m\n\u001b[1;32m    411\u001b[0m \u001b[38;5;250m\u001b[39m\u001b[38;5;124;03m\"\"\"Draw the model.\"\"\"\u001b[39;00m\n\u001b[1;32m    412\u001b[0m \u001b[38;5;66;03m# Fit the regression model\u001b[39;00m\n\u001b[0;32m--> 413\u001b[0m grid, yhat, err_bands \u001b[38;5;241m=\u001b[39m \u001b[38;5;28mself\u001b[39m\u001b[38;5;241m.\u001b[39mfit_regression(ax)\n\u001b[1;32m    414\u001b[0m edges \u001b[38;5;241m=\u001b[39m grid[\u001b[38;5;241m0\u001b[39m], grid[\u001b[38;5;241m-\u001b[39m\u001b[38;5;241m1\u001b[39m]\n\u001b[1;32m    416\u001b[0m \u001b[38;5;66;03m# Get set default aesthetics\u001b[39;00m\n",
                        "File \u001b[0;32m/opt/anaconda3/lib/python3.11/site-packages/seaborn/regression.py:219\u001b[0m, in \u001b[0;36m_RegressionPlotter.fit_regression\u001b[0;34m(self, ax, x_range, grid)\u001b[0m\n\u001b[1;32m    217\u001b[0m     yhat, yhat_boots \u001b[38;5;241m=\u001b[39m \u001b[38;5;28mself\u001b[39m\u001b[38;5;241m.\u001b[39mfit_logx(grid)\n\u001b[1;32m    218\u001b[0m \u001b[38;5;28;01melse\u001b[39;00m:\n\u001b[0;32m--> 219\u001b[0m     yhat, yhat_boots \u001b[38;5;241m=\u001b[39m \u001b[38;5;28mself\u001b[39m\u001b[38;5;241m.\u001b[39mfit_fast(grid)\n\u001b[1;32m    221\u001b[0m \u001b[38;5;66;03m# Compute the confidence interval at each grid point\u001b[39;00m\n\u001b[1;32m    222\u001b[0m \u001b[38;5;28;01mif\u001b[39;00m ci \u001b[38;5;129;01mis\u001b[39;00m \u001b[38;5;28;01mNone\u001b[39;00m:\n",
                        "File \u001b[0;32m/opt/anaconda3/lib/python3.11/site-packages/seaborn/regression.py:236\u001b[0m, in \u001b[0;36m_RegressionPlotter.fit_fast\u001b[0;34m(self, grid)\u001b[0m\n\u001b[1;32m    234\u001b[0m X, y \u001b[38;5;241m=\u001b[39m np\u001b[38;5;241m.\u001b[39mc_[np\u001b[38;5;241m.\u001b[39mones(\u001b[38;5;28mlen\u001b[39m(\u001b[38;5;28mself\u001b[39m\u001b[38;5;241m.\u001b[39mx)), \u001b[38;5;28mself\u001b[39m\u001b[38;5;241m.\u001b[39mx], \u001b[38;5;28mself\u001b[39m\u001b[38;5;241m.\u001b[39my\n\u001b[1;32m    235\u001b[0m grid \u001b[38;5;241m=\u001b[39m np\u001b[38;5;241m.\u001b[39mc_[np\u001b[38;5;241m.\u001b[39mones(\u001b[38;5;28mlen\u001b[39m(grid)), grid]\n\u001b[0;32m--> 236\u001b[0m yhat \u001b[38;5;241m=\u001b[39m grid\u001b[38;5;241m.\u001b[39mdot(reg_func(X, y))\n\u001b[1;32m    237\u001b[0m \u001b[38;5;28;01mif\u001b[39;00m \u001b[38;5;28mself\u001b[39m\u001b[38;5;241m.\u001b[39mci \u001b[38;5;129;01mis\u001b[39;00m \u001b[38;5;28;01mNone\u001b[39;00m:\n\u001b[1;32m    238\u001b[0m     \u001b[38;5;28;01mreturn\u001b[39;00m yhat, \u001b[38;5;28;01mNone\u001b[39;00m\n",
                        "File \u001b[0;32m/opt/anaconda3/lib/python3.11/site-packages/seaborn/regression.py:232\u001b[0m, in \u001b[0;36m_RegressionPlotter.fit_fast.<locals>.reg_func\u001b[0;34m(_x, _y)\u001b[0m\n\u001b[1;32m    231\u001b[0m \u001b[38;5;28;01mdef\u001b[39;00m \u001b[38;5;21mreg_func\u001b[39m(_x, _y):\n\u001b[0;32m--> 232\u001b[0m     \u001b[38;5;28;01mreturn\u001b[39;00m np\u001b[38;5;241m.\u001b[39mlinalg\u001b[38;5;241m.\u001b[39mpinv(_x)\u001b[38;5;241m.\u001b[39mdot(_y)\n",
                        "\u001b[0;31mTypeError\u001b[0m: can't multiply sequence by non-int of type 'float'"
                    ]
                },
                {
                    "data": {
                        "image/png": "[encoded data removed]",
                        "text/plain": [
                            "<Figure size 1000x500 with 1 Axes>"
                        ]
                    },
                    "metadata": {},
                    "output_type": "display_data"
                }
            ],
            "source": [
                "#grafico como en el ejempplo titanic\n",
                "\n",
                "fig, ax = plt.subplots(figsize = (10, 5))\n",
                "sns.regplot(ax = ax, data= lr_data, x = \"charges\", y = \"smoker\")\n",
                "\n",
                "plt.tight_layout()\n",
                "plt.show()"
            ]
        },
        {
            "cell_type": "code",
            "execution_count": 14,
            "metadata": {},
            "outputs": [
                {
                    "data": {
                        "text/plain": [
                            "count     1338.000000\n",
                            "mean     13270.422265\n",
                            "std      12110.011237\n",
                            "min       1121.873900\n",
                            "25%       4740.287150\n",
                            "50%       9382.033000\n",
                            "75%      16639.912515\n",
                            "max      63770.428010\n",
                            "Name: charges, dtype: float64"
                        ]
                    },
                    "execution_count": 14,
                    "metadata": {},
                    "output_type": "execute_result"
                }
            ],
            "source": [
                "#  MIRO LOS OUTLIERS DE MI DATA SET\n",
                "#CHarges\n",
                "\n",
                "\n",
                "charges_stats = lr_data[\"charges\"].describe()\n",
                "charges_stats"
            ]
        },
        {
            "cell_type": "code",
            "execution_count": 15,
            "metadata": {},
            "outputs": [
                {
                    "name": "stdout",
                    "output_type": "stream",
                    "text": [
                        "The upper and lower limits for finding outliers are 34489.35 and -13109.15, with an interquartile range of 11899.63\n"
                    ]
                }
            ],
            "source": [
                "#CALCULO IQR\n",
                "\n",
                "charg_iqr = charges_stats[\"75%\"] - charges_stats[\"25%\"]\n",
                "upper_limit = charges_stats[\"75%\"] + 1.5 * charg_iqr\n",
                "lower_limit = charges_stats[\"25%\"] - 1.5 * charg_iqr\n",
                "\n",
                "print(f\"The upper and lower limits for finding outliers are {round(upper_limit, 2)} and {round(lower_limit, 2)}, with an interquartile range of {round(charg_iqr, 2)}\")"
            ]
        },
        {
            "cell_type": "code",
            "execution_count": 16,
            "metadata": {},
            "outputs": [
                {
                    "data": {
                        "text/html": [
                            "<div>\n",
                            "<style scoped>\n",
                            "    .dataframe tbody tr th:only-of-type {\n",
                            "        vertical-align: middle;\n",
                            "    }\n",
                            "\n",
                            "    .dataframe tbody tr th {\n",
                            "        vertical-align: top;\n",
                            "    }\n",
                            "\n",
                            "    .dataframe thead th {\n",
                            "        text-align: right;\n",
                            "    }\n",
                            "</style>\n",
                            "<table border=\"1\" class=\"dataframe\">\n",
                            "  <thead>\n",
                            "    <tr style=\"text-align: right;\">\n",
                            "      <th></th>\n",
                            "      <th>age</th>\n",
                            "      <th>sex</th>\n",
                            "      <th>bmi</th>\n",
                            "      <th>children</th>\n",
                            "      <th>smoker</th>\n",
                            "      <th>charges</th>\n",
                            "      <th>sex_n</th>\n",
                            "      <th>smoker_n</th>\n",
                            "    </tr>\n",
                            "  </thead>\n",
                            "  <tbody>\n",
                            "    <tr>\n",
                            "      <th>14</th>\n",
                            "      <td>27</td>\n",
                            "      <td>male</td>\n",
                            "      <td>42.130</td>\n",
                            "      <td>0</td>\n",
                            "      <td>yes</td>\n",
                            "      <td>39611.75770</td>\n",
                            "      <td>1</td>\n",
                            "      <td>0</td>\n",
                            "    </tr>\n",
                            "    <tr>\n",
                            "      <th>19</th>\n",
                            "      <td>30</td>\n",
                            "      <td>male</td>\n",
                            "      <td>35.300</td>\n",
                            "      <td>0</td>\n",
                            "      <td>yes</td>\n",
                            "      <td>36837.46700</td>\n",
                            "      <td>1</td>\n",
                            "      <td>0</td>\n",
                            "    </tr>\n",
                            "    <tr>\n",
                            "      <th>23</th>\n",
                            "      <td>34</td>\n",
                            "      <td>female</td>\n",
                            "      <td>31.920</td>\n",
                            "      <td>1</td>\n",
                            "      <td>yes</td>\n",
                            "      <td>37701.87680</td>\n",
                            "      <td>0</td>\n",
                            "      <td>0</td>\n",
                            "    </tr>\n",
                            "    <tr>\n",
                            "      <th>29</th>\n",
                            "      <td>31</td>\n",
                            "      <td>male</td>\n",
                            "      <td>36.300</td>\n",
                            "      <td>2</td>\n",
                            "      <td>yes</td>\n",
                            "      <td>38711.00000</td>\n",
                            "      <td>1</td>\n",
                            "      <td>0</td>\n",
                            "    </tr>\n",
                            "    <tr>\n",
                            "      <th>30</th>\n",
                            "      <td>22</td>\n",
                            "      <td>male</td>\n",
                            "      <td>35.600</td>\n",
                            "      <td>0</td>\n",
                            "      <td>yes</td>\n",
                            "      <td>35585.57600</td>\n",
                            "      <td>1</td>\n",
                            "      <td>0</td>\n",
                            "    </tr>\n",
                            "    <tr>\n",
                            "      <th>...</th>\n",
                            "      <td>...</td>\n",
                            "      <td>...</td>\n",
                            "      <td>...</td>\n",
                            "      <td>...</td>\n",
                            "      <td>...</td>\n",
                            "      <td>...</td>\n",
                            "      <td>...</td>\n",
                            "      <td>...</td>\n",
                            "    </tr>\n",
                            "    <tr>\n",
                            "      <th>1300</th>\n",
                            "      <td>45</td>\n",
                            "      <td>male</td>\n",
                            "      <td>30.360</td>\n",
                            "      <td>0</td>\n",
                            "      <td>yes</td>\n",
                            "      <td>62592.87309</td>\n",
                            "      <td>1</td>\n",
                            "      <td>0</td>\n",
                            "    </tr>\n",
                            "    <tr>\n",
                            "      <th>1301</th>\n",
                            "      <td>62</td>\n",
                            "      <td>male</td>\n",
                            "      <td>30.875</td>\n",
                            "      <td>3</td>\n",
                            "      <td>yes</td>\n",
                            "      <td>46718.16325</td>\n",
                            "      <td>1</td>\n",
                            "      <td>0</td>\n",
                            "    </tr>\n",
                            "    <tr>\n",
                            "      <th>1303</th>\n",
                            "      <td>43</td>\n",
                            "      <td>male</td>\n",
                            "      <td>27.800</td>\n",
                            "      <td>0</td>\n",
                            "      <td>yes</td>\n",
                            "      <td>37829.72420</td>\n",
                            "      <td>1</td>\n",
                            "      <td>0</td>\n",
                            "    </tr>\n",
                            "    <tr>\n",
                            "      <th>1313</th>\n",
                            "      <td>19</td>\n",
                            "      <td>female</td>\n",
                            "      <td>34.700</td>\n",
                            "      <td>2</td>\n",
                            "      <td>yes</td>\n",
                            "      <td>36397.57600</td>\n",
                            "      <td>0</td>\n",
                            "      <td>0</td>\n",
                            "    </tr>\n",
                            "    <tr>\n",
                            "      <th>1323</th>\n",
                            "      <td>42</td>\n",
                            "      <td>female</td>\n",
                            "      <td>40.370</td>\n",
                            "      <td>2</td>\n",
                            "      <td>yes</td>\n",
                            "      <td>43896.37630</td>\n",
                            "      <td>0</td>\n",
                            "      <td>0</td>\n",
                            "    </tr>\n",
                            "  </tbody>\n",
                            "</table>\n",
                            "<p>133 rows × 8 columns</p>\n",
                            "</div>"
                        ],
                        "text/plain": [
                            "      age     sex     bmi  children smoker      charges  sex_n  smoker_n\n",
                            "14     27    male  42.130         0    yes  39611.75770      1         0\n",
                            "19     30    male  35.300         0    yes  36837.46700      1         0\n",
                            "23     34  female  31.920         1    yes  37701.87680      0         0\n",
                            "29     31    male  36.300         2    yes  38711.00000      1         0\n",
                            "30     22    male  35.600         0    yes  35585.57600      1         0\n",
                            "...   ...     ...     ...       ...    ...          ...    ...       ...\n",
                            "1300   45    male  30.360         0    yes  62592.87309      1         0\n",
                            "1301   62    male  30.875         3    yes  46718.16325      1         0\n",
                            "1303   43    male  27.800         0    yes  37829.72420      1         0\n",
                            "1313   19  female  34.700         2    yes  36397.57600      0         0\n",
                            "1323   42  female  40.370         2    yes  43896.37630      0         0\n",
                            "\n",
                            "[133 rows x 8 columns]"
                        ]
                    },
                    "execution_count": 16,
                    "metadata": {},
                    "output_type": "execute_result"
                }
            ],
            "source": [
                "#VEO SI SON MUCHOS los outliers\n",
                "\n",
                "lr_data[lr_data[\"charges\"] > 35000]"
            ]
        },
        {
            "cell_type": "code",
            "execution_count": 17,
            "metadata": {},
            "outputs": [
                {
                    "name": "stdout",
                    "output_type": "stream",
                    "text": [
                        "      age     sex     bmi  children smoker      charges  sex_n  smoker_n\n",
                        "14     27    male  42.130         0    yes  39611.75770      1         0\n",
                        "19     30    male  35.300         0    yes  36837.46700      1         0\n",
                        "23     34  female  31.920         1    yes  37701.87680      0         0\n",
                        "29     31    male  36.300         2    yes  38711.00000      1         0\n",
                        "30     22    male  35.600         0    yes  35585.57600      1         0\n",
                        "...   ...     ...     ...       ...    ...          ...    ...       ...\n",
                        "1300   45    male  30.360         0    yes  62592.87309      1         0\n",
                        "1301   62    male  30.875         3    yes  46718.16325      1         0\n",
                        "1303   43    male  27.800         0    yes  37829.72420      1         0\n",
                        "1313   19  female  34.700         2    yes  36397.57600      0         0\n",
                        "1323   42  female  40.370         2    yes  43896.37630      0         0\n",
                        "\n",
                        "[130 rows x 8 columns]\n"
                    ]
                }
            ],
            "source": [
                "#veo cuantos son fumadores\n",
                "fumador_35k = lr_data[(lr_data['smoker'] == \"yes\") & (lr_data[\"charges\"] > 35000)]\n",
                "print(fumador_35k)"
            ]
        },
        {
            "cell_type": "markdown",
            "metadata": {},
            "source": [
                "Estos outliers representan el 10% de mi dataset pero entiendo que no los puedo dropear porque casi 100% de mis outliers son fumadores y pagan mas,\n"
            ]
        },
        {
            "cell_type": "markdown",
            "metadata": {},
            "source": [
                "Vamos a hacer la division en train y test groups"
            ]
        },
        {
            "cell_type": "code",
            "execution_count": 18,
            "metadata": {},
            "outputs": [
                {
                    "data": {
                        "text/html": [
                            "<div>\n",
                            "<style scoped>\n",
                            "    .dataframe tbody tr th:only-of-type {\n",
                            "        vertical-align: middle;\n",
                            "    }\n",
                            "\n",
                            "    .dataframe tbody tr th {\n",
                            "        vertical-align: top;\n",
                            "    }\n",
                            "\n",
                            "    .dataframe thead th {\n",
                            "        text-align: right;\n",
                            "    }\n",
                            "</style>\n",
                            "<table border=\"1\" class=\"dataframe\">\n",
                            "  <thead>\n",
                            "    <tr style=\"text-align: right;\">\n",
                            "      <th></th>\n",
                            "      <th>age</th>\n",
                            "      <th>bmi</th>\n",
                            "      <th>children</th>\n",
                            "      <th>sex_n</th>\n",
                            "      <th>smoker_n</th>\n",
                            "    </tr>\n",
                            "  </thead>\n",
                            "  <tbody>\n",
                            "    <tr>\n",
                            "      <th>560</th>\n",
                            "      <td>46</td>\n",
                            "      <td>19.95</td>\n",
                            "      <td>2</td>\n",
                            "      <td>0</td>\n",
                            "      <td>1</td>\n",
                            "    </tr>\n",
                            "    <tr>\n",
                            "      <th>1285</th>\n",
                            "      <td>47</td>\n",
                            "      <td>24.32</td>\n",
                            "      <td>0</td>\n",
                            "      <td>0</td>\n",
                            "      <td>1</td>\n",
                            "    </tr>\n",
                            "    <tr>\n",
                            "      <th>1142</th>\n",
                            "      <td>52</td>\n",
                            "      <td>24.86</td>\n",
                            "      <td>0</td>\n",
                            "      <td>0</td>\n",
                            "      <td>1</td>\n",
                            "    </tr>\n",
                            "    <tr>\n",
                            "      <th>969</th>\n",
                            "      <td>39</td>\n",
                            "      <td>34.32</td>\n",
                            "      <td>5</td>\n",
                            "      <td>0</td>\n",
                            "      <td>1</td>\n",
                            "    </tr>\n",
                            "    <tr>\n",
                            "      <th>486</th>\n",
                            "      <td>54</td>\n",
                            "      <td>21.47</td>\n",
                            "      <td>3</td>\n",
                            "      <td>0</td>\n",
                            "      <td>1</td>\n",
                            "    </tr>\n",
                            "  </tbody>\n",
                            "</table>\n",
                            "</div>"
                        ],
                        "text/plain": [
                            "      age    bmi  children  sex_n  smoker_n\n",
                            "560    46  19.95         2      0         1\n",
                            "1285   47  24.32         0      0         1\n",
                            "1142   52  24.86         0      0         1\n",
                            "969    39  34.32         5      0         1\n",
                            "486    54  21.47         3      0         1"
                        ]
                    },
                    "execution_count": 18,
                    "metadata": {},
                    "output_type": "execute_result"
                }
            ],
            "source": [
                "# We divide the dataset into training and test samples\n",
                "# creo el grupo de variables que debe contener mi X\n",
                "\n",
                "from sklearn.model_selection import train_test_split\n",
                "\n",
                "num_variables = [\"age\", \"bmi\", \"children\", \"sex_n\", \"smoker_n\"]\n",
                "\n",
                "X = lr_data.drop(\"charges\", axis = 1)[num_variables]\n",
                "y = lr_data[\"charges\"]\n",
                "\n",
                "X_train, X_test, y_train, y_test = train_test_split(X, y, test_size = 0.2, random_state = 42)\n",
                "\n",
                "X_train.head()"
            ]
        },
        {
            "cell_type": "code",
            "execution_count": 19,
            "metadata": {},
            "outputs": [
                {
                    "data": {
                        "text/html": [
                            "<div>\n",
                            "<style scoped>\n",
                            "    .dataframe tbody tr th:only-of-type {\n",
                            "        vertical-align: middle;\n",
                            "    }\n",
                            "\n",
                            "    .dataframe tbody tr th {\n",
                            "        vertical-align: top;\n",
                            "    }\n",
                            "\n",
                            "    .dataframe thead th {\n",
                            "        text-align: right;\n",
                            "    }\n",
                            "</style>\n",
                            "<table border=\"1\" class=\"dataframe\">\n",
                            "  <thead>\n",
                            "    <tr style=\"text-align: right;\">\n",
                            "      <th></th>\n",
                            "      <th>age</th>\n",
                            "      <th>bmi</th>\n",
                            "      <th>children</th>\n",
                            "      <th>sex_n</th>\n",
                            "      <th>smoker_n</th>\n",
                            "    </tr>\n",
                            "  </thead>\n",
                            "  <tbody>\n",
                            "    <tr>\n",
                            "      <th>560</th>\n",
                            "      <td>0.608696</td>\n",
                            "      <td>0.107345</td>\n",
                            "      <td>0.4</td>\n",
                            "      <td>0.0</td>\n",
                            "      <td>1.0</td>\n",
                            "    </tr>\n",
                            "    <tr>\n",
                            "      <th>1285</th>\n",
                            "      <td>0.630435</td>\n",
                            "      <td>0.224913</td>\n",
                            "      <td>0.0</td>\n",
                            "      <td>0.0</td>\n",
                            "      <td>1.0</td>\n",
                            "    </tr>\n",
                            "    <tr>\n",
                            "      <th>1142</th>\n",
                            "      <td>0.739130</td>\n",
                            "      <td>0.239440</td>\n",
                            "      <td>0.0</td>\n",
                            "      <td>0.0</td>\n",
                            "      <td>1.0</td>\n",
                            "    </tr>\n",
                            "    <tr>\n",
                            "      <th>969</th>\n",
                            "      <td>0.456522</td>\n",
                            "      <td>0.493947</td>\n",
                            "      <td>1.0</td>\n",
                            "      <td>0.0</td>\n",
                            "      <td>1.0</td>\n",
                            "    </tr>\n",
                            "    <tr>\n",
                            "      <th>486</th>\n",
                            "      <td>0.782609</td>\n",
                            "      <td>0.148238</td>\n",
                            "      <td>0.6</td>\n",
                            "      <td>0.0</td>\n",
                            "      <td>1.0</td>\n",
                            "    </tr>\n",
                            "  </tbody>\n",
                            "</table>\n",
                            "</div>"
                        ],
                        "text/plain": [
                            "           age       bmi  children  sex_n  smoker_n\n",
                            "560   0.608696  0.107345       0.4    0.0       1.0\n",
                            "1285  0.630435  0.224913       0.0    0.0       1.0\n",
                            "1142  0.739130  0.239440       0.0    0.0       1.0\n",
                            "969   0.456522  0.493947       1.0    0.0       1.0\n",
                            "486   0.782609  0.148238       0.6    0.0       1.0"
                        ]
                    },
                    "execution_count": 19,
                    "metadata": {},
                    "output_type": "execute_result"
                }
            ],
            "source": [
                "#AHORA HAGO EL SCALING DE LOS DTOS \n",
                "# Only predictor variables should be scaled, never the target.\n",
                "\n",
                "from sklearn.preprocessing import MinMaxScaler\n",
                "\n",
                "num_variables = [\"age\", \"bmi\", \"children\", \"sex_n\", \"smoker_n\"]\n",
                "\n",
                "scaler = MinMaxScaler()\n",
                "scaler.fit(X_train)\n",
                "\n",
                "X_train_scaled = scaler.transform(X_train)\n",
                "X_train_scaled = pd.DataFrame(X_train_scaled, index = X_train.index, columns= num_variables)\n",
                "\n",
                "X_test_scaled = scaler.transform(X_test)\n",
                "X_test_scaled = pd.DataFrame(X_test_scaled, index= X_test.index, columns= num_variables)\n",
                "\n",
                "X_train_scaled.head()"
            ]
        },
        {
            "cell_type": "code",
            "execution_count": 20,
            "metadata": {},
            "outputs": [
                {
                    "name": "stderr",
                    "output_type": "stream",
                    "text": [
                        "/opt/anaconda3/lib/python3.11/site-packages/sklearn/feature_selection/_univariate_selection.py:109: RuntimeWarning: invalid value encountered in divide\n",
                        "  msw = sswn / float(dfwn)\n"
                    ]
                },
                {
                    "data": {
                        "text/html": [
                            "<div>\n",
                            "<style scoped>\n",
                            "    .dataframe tbody tr th:only-of-type {\n",
                            "        vertical-align: middle;\n",
                            "    }\n",
                            "\n",
                            "    .dataframe tbody tr th {\n",
                            "        vertical-align: top;\n",
                            "    }\n",
                            "\n",
                            "    .dataframe thead th {\n",
                            "        text-align: right;\n",
                            "    }\n",
                            "</style>\n",
                            "<table border=\"1\" class=\"dataframe\">\n",
                            "  <thead>\n",
                            "    <tr style=\"text-align: right;\">\n",
                            "      <th></th>\n",
                            "      <th>bmi</th>\n",
                            "      <th>children</th>\n",
                            "      <th>sex_n</th>\n",
                            "      <th>smoker_n</th>\n",
                            "    </tr>\n",
                            "  </thead>\n",
                            "  <tbody>\n",
                            "    <tr>\n",
                            "      <th>0</th>\n",
                            "      <td>0.107345</td>\n",
                            "      <td>0.4</td>\n",
                            "      <td>0.0</td>\n",
                            "      <td>1.0</td>\n",
                            "    </tr>\n",
                            "    <tr>\n",
                            "      <th>1</th>\n",
                            "      <td>0.224913</td>\n",
                            "      <td>0.0</td>\n",
                            "      <td>0.0</td>\n",
                            "      <td>1.0</td>\n",
                            "    </tr>\n",
                            "    <tr>\n",
                            "      <th>2</th>\n",
                            "      <td>0.239440</td>\n",
                            "      <td>0.0</td>\n",
                            "      <td>0.0</td>\n",
                            "      <td>1.0</td>\n",
                            "    </tr>\n",
                            "    <tr>\n",
                            "      <th>3</th>\n",
                            "      <td>0.493947</td>\n",
                            "      <td>1.0</td>\n",
                            "      <td>0.0</td>\n",
                            "      <td>1.0</td>\n",
                            "    </tr>\n",
                            "    <tr>\n",
                            "      <th>4</th>\n",
                            "      <td>0.148238</td>\n",
                            "      <td>0.6</td>\n",
                            "      <td>0.0</td>\n",
                            "      <td>1.0</td>\n",
                            "    </tr>\n",
                            "  </tbody>\n",
                            "</table>\n",
                            "</div>"
                        ],
                        "text/plain": [
                            "        bmi  children  sex_n  smoker_n\n",
                            "0  0.107345       0.4    0.0       1.0\n",
                            "1  0.224913       0.0    0.0       1.0\n",
                            "2  0.239440       0.0    0.0       1.0\n",
                            "3  0.493947       1.0    0.0       1.0\n",
                            "4  0.148238       0.6    0.0       1.0"
                        ]
                    },
                    "execution_count": 20,
                    "metadata": {},
                    "output_type": "execute_result"
                }
            ],
            "source": [
                "from sklearn.feature_selection import f_classif, SelectKBest\n",
                "\n",
                "selection_model = SelectKBest(f_classif, k = 4)\n",
                "selection_model.fit(X_train_scaled, y_train)\n",
                "\n",
                "ix = selection_model.get_support()\n",
                "X_train_selection = pd.DataFrame(selection_model.transform(X_train_scaled), columns= X_train_scaled.columns.values[ix])\n",
                "X_test_selection = pd.DataFrame(selection_model.transform(X_test_scaled), columns= X_test_scaled.columns.values[ix])\n",
                "\n",
                "X_train_selection.head()"
            ]
        },
        {
            "cell_type": "code",
            "execution_count": 21,
            "metadata": {},
            "outputs": [
                {
                    "data": {
                        "text/html": [
                            "<div>\n",
                            "<style scoped>\n",
                            "    .dataframe tbody tr th:only-of-type {\n",
                            "        vertical-align: middle;\n",
                            "    }\n",
                            "\n",
                            "    .dataframe tbody tr th {\n",
                            "        vertical-align: top;\n",
                            "    }\n",
                            "\n",
                            "    .dataframe thead th {\n",
                            "        text-align: right;\n",
                            "    }\n",
                            "</style>\n",
                            "<table border=\"1\" class=\"dataframe\">\n",
                            "  <thead>\n",
                            "    <tr style=\"text-align: right;\">\n",
                            "      <th></th>\n",
                            "      <th>bmi</th>\n",
                            "      <th>children</th>\n",
                            "      <th>sex_n</th>\n",
                            "      <th>smoker_n</th>\n",
                            "    </tr>\n",
                            "  </thead>\n",
                            "  <tbody>\n",
                            "    <tr>\n",
                            "      <th>0</th>\n",
                            "      <td>0.247915</td>\n",
                            "      <td>0.4</td>\n",
                            "      <td>0.0</td>\n",
                            "      <td>1.0</td>\n",
                            "    </tr>\n",
                            "    <tr>\n",
                            "      <th>1</th>\n",
                            "      <td>0.378262</td>\n",
                            "      <td>0.0</td>\n",
                            "      <td>0.0</td>\n",
                            "      <td>1.0</td>\n",
                            "    </tr>\n",
                            "    <tr>\n",
                            "      <th>2</th>\n",
                            "      <td>0.293920</td>\n",
                            "      <td>0.0</td>\n",
                            "      <td>0.0</td>\n",
                            "      <td>0.0</td>\n",
                            "    </tr>\n",
                            "    <tr>\n",
                            "      <th>3</th>\n",
                            "      <td>0.263250</td>\n",
                            "      <td>0.6</td>\n",
                            "      <td>1.0</td>\n",
                            "      <td>1.0</td>\n",
                            "    </tr>\n",
                            "    <tr>\n",
                            "      <th>4</th>\n",
                            "      <td>0.429379</td>\n",
                            "      <td>0.0</td>\n",
                            "      <td>1.0</td>\n",
                            "      <td>0.0</td>\n",
                            "    </tr>\n",
                            "  </tbody>\n",
                            "</table>\n",
                            "</div>"
                        ],
                        "text/plain": [
                            "        bmi  children  sex_n  smoker_n\n",
                            "0  0.247915       0.4    0.0       1.0\n",
                            "1  0.378262       0.0    0.0       1.0\n",
                            "2  0.293920       0.0    0.0       0.0\n",
                            "3  0.263250       0.6    1.0       1.0\n",
                            "4  0.429379       0.0    1.0       0.0"
                        ]
                    },
                    "execution_count": 21,
                    "metadata": {},
                    "output_type": "execute_result"
                }
            ],
            "source": [
                "X_test_selection.head()"
            ]
        },
        {
            "cell_type": "code",
            "execution_count": 22,
            "metadata": {},
            "outputs": [],
            "source": [
                "#GUARDO LOS SETS DE DATOS y asigno columna CHARGE a los X sets\n",
                "\n",
                "X_train_selection[\"charges\"] = list(y_train)\n",
                "X_test_selection[\"charges\"] = list(y_test)\n",
                "\n",
                "X_train_selection.to_csv(\"../data/processed/clean_train_linear.csv\", index=False)\n",
                "X_test_selection.to_csv(\"../data/processed/clean_test_linear.csv\", index=False)"
            ]
        },
        {
            "cell_type": "code",
            "execution_count": 23,
            "metadata": {},
            "outputs": [
                {
                    "data": {
                        "text/html": [
                            "<div>\n",
                            "<style scoped>\n",
                            "    .dataframe tbody tr th:only-of-type {\n",
                            "        vertical-align: middle;\n",
                            "    }\n",
                            "\n",
                            "    .dataframe tbody tr th {\n",
                            "        vertical-align: top;\n",
                            "    }\n",
                            "\n",
                            "    .dataframe thead th {\n",
                            "        text-align: right;\n",
                            "    }\n",
                            "</style>\n",
                            "<table border=\"1\" class=\"dataframe\">\n",
                            "  <thead>\n",
                            "    <tr style=\"text-align: right;\">\n",
                            "      <th></th>\n",
                            "      <th>bmi</th>\n",
                            "      <th>children</th>\n",
                            "      <th>sex_n</th>\n",
                            "      <th>smoker_n</th>\n",
                            "      <th>charges</th>\n",
                            "    </tr>\n",
                            "  </thead>\n",
                            "  <tbody>\n",
                            "    <tr>\n",
                            "      <th>0</th>\n",
                            "      <td>0.107345</td>\n",
                            "      <td>0.4</td>\n",
                            "      <td>0.0</td>\n",
                            "      <td>1.0</td>\n",
                            "      <td>9193.83850</td>\n",
                            "    </tr>\n",
                            "    <tr>\n",
                            "      <th>1</th>\n",
                            "      <td>0.224913</td>\n",
                            "      <td>0.0</td>\n",
                            "      <td>0.0</td>\n",
                            "      <td>1.0</td>\n",
                            "      <td>8534.67180</td>\n",
                            "    </tr>\n",
                            "    <tr>\n",
                            "      <th>2</th>\n",
                            "      <td>0.239440</td>\n",
                            "      <td>0.0</td>\n",
                            "      <td>0.0</td>\n",
                            "      <td>1.0</td>\n",
                            "      <td>27117.99378</td>\n",
                            "    </tr>\n",
                            "    <tr>\n",
                            "      <th>3</th>\n",
                            "      <td>0.493947</td>\n",
                            "      <td>1.0</td>\n",
                            "      <td>0.0</td>\n",
                            "      <td>1.0</td>\n",
                            "      <td>8596.82780</td>\n",
                            "    </tr>\n",
                            "    <tr>\n",
                            "      <th>4</th>\n",
                            "      <td>0.148238</td>\n",
                            "      <td>0.6</td>\n",
                            "      <td>0.0</td>\n",
                            "      <td>1.0</td>\n",
                            "      <td>12475.35130</td>\n",
                            "    </tr>\n",
                            "  </tbody>\n",
                            "</table>\n",
                            "</div>"
                        ],
                        "text/plain": [
                            "        bmi  children  sex_n  smoker_n      charges\n",
                            "0  0.107345       0.4    0.0       1.0   9193.83850\n",
                            "1  0.224913       0.0    0.0       1.0   8534.67180\n",
                            "2  0.239440       0.0    0.0       1.0  27117.99378\n",
                            "3  0.493947       1.0    0.0       1.0   8596.82780\n",
                            "4  0.148238       0.6    0.0       1.0  12475.35130"
                        ]
                    },
                    "execution_count": 23,
                    "metadata": {},
                    "output_type": "execute_result"
                }
            ],
            "source": [
                "# Aplicando el modelo de REGRESION LINEAL\n",
                "\n",
                "train_set = pd.read_csv(\"../data/processed/clean_train_linear.csv\")\n",
                "test_set = pd.read_csv(\"../data/processed/clean_test_linear.csv\")\n",
                "\n",
                "train_set.head()"
            ]
        },
        {
            "cell_type": "code",
            "execution_count": 24,
            "metadata": {},
            "outputs": [],
            "source": [
                "#quito CHARGES de los set de datos de test y train para aplicar el modelo\n",
                "\n",
                "X_train = train_set.drop([\"charges\"], axis = 1)\n",
                "y_train = train_set[\"charges\"]\n",
                "\n",
                "X_test = test_set.drop([\"charges\"], axis = 1)\n",
                "y_test = test_set[\"charges\"]"
            ]
        },
        {
            "cell_type": "code",
            "execution_count": 25,
            "metadata": {},
            "outputs": [
                {
                    "data": {
                        "text/html": [
                            "<style>#sk-container-id-1 {color: black;background-color: white;}#sk-container-id-1 pre{padding: 0;}#sk-container-id-1 div.sk-toggleable {background-color: white;}#sk-container-id-1 label.sk-toggleable__label {cursor: pointer;display: block;width: 100%;margin-bottom: 0;padding: 0.3em;box-sizing: border-box;text-align: center;}#sk-container-id-1 label.sk-toggleable__label-arrow:before {content: \"▸\";float: left;margin-right: 0.25em;color: #696969;}#sk-container-id-1 label.sk-toggleable__label-arrow:hover:before {color: black;}#sk-container-id-1 div.sk-estimator:hover label.sk-toggleable__label-arrow:before {color: black;}#sk-container-id-1 div.sk-toggleable__content {max-height: 0;max-width: 0;overflow: hidden;text-align: left;background-color: #f0f8ff;}#sk-container-id-1 div.sk-toggleable__content pre {margin: 0.2em;color: black;border-radius: 0.25em;background-color: #f0f8ff;}#sk-container-id-1 input.sk-toggleable__control:checked~div.sk-toggleable__content {max-height: 200px;max-width: 100%;overflow: auto;}#sk-container-id-1 input.sk-toggleable__control:checked~label.sk-toggleable__label-arrow:before {content: \"▾\";}#sk-container-id-1 div.sk-estimator input.sk-toggleable__control:checked~label.sk-toggleable__label {background-color: #d4ebff;}#sk-container-id-1 div.sk-label input.sk-toggleable__control:checked~label.sk-toggleable__label {background-color: #d4ebff;}#sk-container-id-1 input.sk-hidden--visually {border: 0;clip: rect(1px 1px 1px 1px);clip: rect(1px, 1px, 1px, 1px);height: 1px;margin: -1px;overflow: hidden;padding: 0;position: absolute;width: 1px;}#sk-container-id-1 div.sk-estimator {font-family: monospace;background-color: #f0f8ff;border: 1px dotted black;border-radius: 0.25em;box-sizing: border-box;margin-bottom: 0.5em;}#sk-container-id-1 div.sk-estimator:hover {background-color: #d4ebff;}#sk-container-id-1 div.sk-parallel-item::after {content: \"\";width: 100%;border-bottom: 1px solid gray;flex-grow: 1;}#sk-container-id-1 div.sk-label:hover label.sk-toggleable__label {background-color: #d4ebff;}#sk-container-id-1 div.sk-serial::before {content: \"\";position: absolute;border-left: 1px solid gray;box-sizing: border-box;top: 0;bottom: 0;left: 50%;z-index: 0;}#sk-container-id-1 div.sk-serial {display: flex;flex-direction: column;align-items: center;background-color: white;padding-right: 0.2em;padding-left: 0.2em;position: relative;}#sk-container-id-1 div.sk-item {position: relative;z-index: 1;}#sk-container-id-1 div.sk-parallel {display: flex;align-items: stretch;justify-content: center;background-color: white;position: relative;}#sk-container-id-1 div.sk-item::before, #sk-container-id-1 div.sk-parallel-item::before {content: \"\";position: absolute;border-left: 1px solid gray;box-sizing: border-box;top: 0;bottom: 0;left: 50%;z-index: -1;}#sk-container-id-1 div.sk-parallel-item {display: flex;flex-direction: column;z-index: 1;position: relative;background-color: white;}#sk-container-id-1 div.sk-parallel-item:first-child::after {align-self: flex-end;width: 50%;}#sk-container-id-1 div.sk-parallel-item:last-child::after {align-self: flex-start;width: 50%;}#sk-container-id-1 div.sk-parallel-item:only-child::after {width: 0;}#sk-container-id-1 div.sk-dashed-wrapped {border: 1px dashed gray;margin: 0 0.4em 0.5em 0.4em;box-sizing: border-box;padding-bottom: 0.4em;background-color: white;}#sk-container-id-1 div.sk-label label {font-family: monospace;font-weight: bold;display: inline-block;line-height: 1.2em;}#sk-container-id-1 div.sk-label-container {text-align: center;}#sk-container-id-1 div.sk-container {/* jupyter's `normalize.less` sets `[hidden] { display: none; }` but bootstrap.min.css set `[hidden] { display: none !important; }` so we also need the `!important` here to be able to override the default hidden behavior on the sphinx rendered scikit-learn.org. See: https://github.com/scikit-learn/scikit-learn/issues/21755 */display: inline-block !important;position: relative;}#sk-container-id-1 div.sk-text-repr-fallback {display: none;}</style><div id=\"sk-container-id-1\" class=\"sk-top-container\"><div class=\"sk-text-repr-fallback\"><pre>LinearRegression()</pre><b>In a Jupyter environment, please rerun this cell to show the HTML representation or trust the notebook. <br />On GitHub, the HTML representation is unable to render, please try loading this page with nbviewer.org.</b></div><div class=\"sk-container\" hidden><div class=\"sk-item\"><div class=\"sk-estimator sk-toggleable\"><input class=\"sk-toggleable__control sk-hidden--visually\" id=\"sk-estimator-id-1\" type=\"checkbox\" checked><label for=\"sk-estimator-id-1\" class=\"sk-toggleable__label sk-toggleable__label-arrow\">LinearRegression</label><div class=\"sk-toggleable__content\"><pre>LinearRegression()</pre></div></div></div></div></div>"
                        ],
                        "text/plain": [
                            "LinearRegression()"
                        ]
                    },
                    "execution_count": 25,
                    "metadata": {},
                    "output_type": "execute_result"
                }
            ],
            "source": [
                "#busco el modelo\n",
                "\n",
                "from sklearn.linear_model import LinearRegression\n",
                "\n",
                "model = LinearRegression()\n",
                "model.fit(X_train, y_train)\n"
            ]
        },
        {
            "cell_type": "code",
            "execution_count": 26,
            "metadata": {},
            "outputs": [
                {
                    "name": "stdout",
                    "output_type": "stream",
                    "text": [
                        "Intercep (a): 25302.58002803105\n",
                        "Coefficients (b1, b2): [ 14811.92039759   3065.38454536    -63.32401216 -23188.98720457]\n"
                    ]
                }
            ],
            "source": [
                "\n",
                "# After the training process, we can know the parameters (variables\n",
                "# that the model has fitted:\n",
                "\n",
                "print(f\"Intercep (a): {model.intercept_}\")\n",
                "print(f\"Coefficients (b1, b2): {model.coef_}\")"
            ]
        },
        {
            "cell_type": "markdown",
            "metadata": {},
            "source": []
        },
        {
            "cell_type": "code",
            "execution_count": 27,
            "metadata": {},
            "outputs": [
                {
                    "data": {
                        "text/plain": [
                            "array([ 7011.84366781,  7716.3800387 , 29656.09712095,  7788.73658696,\n",
                            "       31599.17663857, 13398.70045568,  4725.70307922, 10795.15966751,\n",
                            "        2643.58620869,  8962.29336853, 30441.7530373 ,  9106.34986692,\n",
                            "        8158.10570292, 37594.6712815 , 35185.59804234, 35622.73915166,\n",
                            "       13987.43329815, 34152.47142778,  7544.42915161, 29656.09712095,\n",
                            "        8279.67401734,  9907.31731377,  7804.48270803, 11615.61708714,\n",
                            "        8798.47735845,  8776.36680915,  9740.7156755 ,  9707.03744741,\n",
                            "        7579.69372341,  7700.87497859,  9881.77396269,  8435.65677579,\n",
                            "        9649.06268407,  5542.80370636,  8258.16311027, 11552.29307498,\n",
                            "        6886.91856092,  8281.63799572, 29171.3305892 , 33519.30490368,\n",
                            "       10215.9069848 ,  8796.12632084, 10632.73647153,  5835.93584863,\n",
                            "       11162.56480509,  7261.93494255, 10381.08733102,  7276.24071818,\n",
                            "       35052.29699749, 12214.5817502 , 10218.905196  ,  8007.11361201,\n",
                            "       12872.25739255,  6100.93254124,  9410.40251439,  9712.05659289,\n",
                            "        5835.93584863, 34422.68079549,  8943.73314132,  9003.50683139,\n",
                            "        8425.69449411, 14162.76945567, 11915.11365764,  6936.13032706,\n",
                            "        8057.09007206,  6701.62012172, 31572.86859358,  8049.74836691,\n",
                            "        5338.77998829, 11430.75323852, 11067.52654323,  9851.0939458 ,\n",
                            "        9035.38613275,  9803.70958432, 11470.00272298,  7676.53091199,\n",
                            "       10514.41685383,  5974.97320153, 10130.03783276,  7834.1284921 ,\n",
                            "        8972.06212059, 29517.05976804,  8854.86577808, 34781.48798753,\n",
                            "       40445.08312564, 31561.3199682 , 10109.94821774,  8750.89946736,\n",
                            "        9207.53054946, 12114.35929118, 12160.35083856, 28103.97363565,\n",
                            "       29966.32066704,  7932.79308535, 33738.47510058,  9747.92080693,\n",
                            "       31020.76465905,  8903.88401461, 30208.20105548,  6330.42360109,\n",
                            "        7685.89355143,  7270.06981956, 11733.6066015 , 11915.11365764,\n",
                            "        5116.65911153, 10330.31769912,  9146.19899363, 27207.80287528,\n",
                            "        4245.95569295, 28673.21650534,  8880.40912916, 14845.2237552 ,\n",
                            "        9275.8737071 , 32275.5775598 ,  8632.31031076,  9453.63691153,\n",
                            "        7085.20597094, 30808.53005468,  9253.35704517,  7206.14616516,\n",
                            "        9616.58374046, 10544.9033411 , 12273.92084968,  9980.24502632,\n",
                            "        6481.85028259, 10153.94730879, 10568.97786879,  8190.41959487,\n",
                            "        9780.5648022 , 12391.11719219,  7282.02455757, 11205.79920223,\n",
                            "       11269.72285663, 11009.91036116,  8824.1857612 , 11087.45110658,\n",
                            "        9735.17289706, 30834.07340576, 34463.89425834, 31208.22060625,\n",
                            "        6467.10991638,  9268.503524  ,  9804.9088688 , 11933.21081633,\n",
                            "        5947.51340341, 30306.86564873,  7857.07974461,  7349.76807298,\n",
                            "       12092.00768092,  8457.40874381, 35470.27823735,  6959.24663123,\n",
                            "       12084.27891654, 32893.67361436, 12531.54735919,  9508.03287482,\n",
                            "        8485.90277475,  8070.43762416, 32136.70525856, 32552.963581  ,\n",
                            "        9661.81059393,  6625.90678098,  7117.87844416,  5457.36914489,\n",
                            "       10560.24334955, 11732.40731702, 33965.78017449, 31359.64728774,\n",
                            "       31985.1135254 ,  7827.95759348,  4854.61309878,  9317.71529014,\n",
                            "       12687.99318617,  6638.29610956,  6552.78553881, 29618.07539891,\n",
                            "       29917.54349146, 11821.27468026, 27248.01058327,  4990.69977183,\n",
                            "       29996.80715431,  3067.3797659 ,  4101.89919456,  9795.90481065,\n",
                            "        6501.60979428,  9041.36350176,  8114.70625412,  6791.88029906,\n",
                            "       14426.37333419,  6706.63926721, 12313.60492473,  7375.67000534,\n",
                            "        4990.69977183, 34570.72220655, 11163.76408957,  9342.22440841,\n",
                            "        6133.77006613,  8488.25381236,  6239.96989414,  5955.04863818,\n",
                            "        4612.1330681 , 29782.05646066, 14537.78583731,  7781.36640386,\n",
                            "       30251.241923  , 28805.31826572,  6214.50255236,  6072.79709158,\n",
                            "       11689.77256212,  4655.36746524,  4218.06130426,  5922.56969457,\n",
                            "       16135.30122775, 29662.50908053,  6866.8289459 ,  6883.53329049,\n",
                            "        7632.09723037,  8682.914891  ,  5528.66298239,  9999.13535686,\n",
                            "        9987.78026109, 11438.72306386, 16071.37757335, 35272.06683662,\n",
                            "        8485.90277475, 31503.53873447,  3962.59230275,  7880.19604878,\n",
                            "        8270.11784828, 14731.41268313, 10374.75138074,  2946.43957168,\n",
                            "        6782.71118924, 29957.39261817,  3060.00958279, 10374.75138074,\n",
                            "        9219.91987804,  9278.90039625, 36255.90567575,  9147.39827811,\n",
                            "        3060.00958279, 34251.92919288,  9495.64354624,  8289.60782106,\n",
                            "        5722.36583751,  8069.47940064,  7938.33586379,  8855.9000109 ,\n",
                            "       17448.52348241,  2655.97553728,  7549.01370652, 11596.32064397,\n",
                            "        6034.74689159,  4612.1330681 ,  9048.73368486,  9210.12264803,\n",
                            "        7206.7458074 ,  9818.25642091,  4662.37906706,  9744.89411778,\n",
                            "        9025.61738069,  4157.85302362, 30495.35582874, 32862.39395523,\n",
                            "        6580.6799275 ,  7471.14285777, 37835.13037789,  9995.15044419])"
                        ]
                    },
                    "execution_count": 27,
                    "metadata": {},
                    "output_type": "execute_result"
                }
            ],
            "source": [
                "# Prediction\n",
                "\n",
                "y_pred = model.predict(X_test)\n",
                "y_pred"
            ]
        },
        {
            "cell_type": "code",
            "execution_count": 28,
            "metadata": {},
            "outputs": [
                {
                    "name": "stdout",
                    "output_type": "stream",
                    "text": [
                        "Mean squared error: 47484296.29331464\n",
                        "Coefficient of determination: 0.6941405199447263\n"
                    ]
                }
            ],
            "source": [
                "from sklearn.metrics import mean_squared_error, r2_score\n",
                "\n",
                "print(f\"Mean squared error: {mean_squared_error(y_test, y_pred)}\")\n",
                "print(f\"Coefficient of determination: {r2_score(y_test, y_pred)}\")\n"
            ]
        },
        {
            "cell_type": "markdown",
            "metadata": {},
            "source": [
                "Si observamos el r2 es de 69% o sea que el 69% de los datos estan explicados por este modelo"
            ]
        },
        {
            "cell_type": "markdown",
            "metadata": {},
            "source": [
                "ste tipo de modelos no se pueden optimizar, debido a la ausencia de hiperparámetros."
            ]
        },
        {
            "cell_type": "code",
            "execution_count": 29,
            "metadata": {},
            "outputs": [],
            "source": [
                "from pickle import dump\n",
                "\n",
                "dump(model, open(\"../models/linear_regression.pkl\", \"wb\"))"
            ]
        }
    ],
    "metadata": {
        "kernelspec": {
            "display_name": "Python 3.8.13 64-bit ('3.8.13')",
            "language": "python",
            "name": "python3"
        },
        "language_info": {
            "codemirror_mode": {
                "name": "ipython",
                "version": 3
            },
            "file_extension": ".py",
            "mimetype": "text/x-python",
            "name": "python",
            "nbconvert_exporter": "python",
            "pygments_lexer": "ipython3",
            "version": "3.11.7"
        },
        "orig_nbformat": 4,
        "vscode": {
            "interpreter": {
                "hash": "110cc1dee26208153f2972f08a2ad52b6a56238dc66d48e87fb757ef2996db56"
            }
        }
    },
    "nbformat": 4,
    "nbformat_minor": 2
}
